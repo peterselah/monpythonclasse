{
 "cells": [
  {
   "cell_type": "code",
   "execution_count": 27,
   "id": "8cdf5414",
   "metadata": {},
   "outputs": [
    {
     "name": "stdout",
     "output_type": "stream",
     "text": [
      "giraf\n",
      "tigre\n",
      "singe\n",
      "souris\n"
     ]
    }
   ],
   "source": [
    "\n",
    "z= [\"giraf\",\"tigre\",\"singe\",\"souris\"]\n",
    "\n",
    " \n",
    "for i in range(len(z)):\n",
    "  print(z[i])\n"
   ]
  },
  {
   "cell_type": "code",
   "execution_count": 28,
   "id": "d3ac9738",
   "metadata": {},
   "outputs": [
    {
     "name": "stdout",
     "output_type": "stream",
     "text": [
      "0 giraf\n",
      "1 tigre\n",
      "2 singe\n",
      "3 souris\n"
     ]
    }
   ],
   "source": [
    "for i in range(4):\n",
    "    print(i,z[i])"
   ]
  },
  {
   "cell_type": "code",
   "execution_count": 29,
   "id": "79090cbf",
   "metadata": {},
   "outputs": [
    {
     "name": "stdout",
     "output_type": "stream",
     "text": [
      "0 giraf\n",
      "1 tigre\n",
      "2 singe\n",
      "3 souris\n"
     ]
    }
   ],
   "source": [
    "for i in range(0,4,1):\n",
    "    print(i,z[i])"
   ]
  },
  {
   "cell_type": "code",
   "execution_count": 35,
   "id": "81ee529b",
   "metadata": {},
   "outputs": [
    {
     "name": "stdout",
     "output_type": "stream",
     "text": [
      "3 souris\n",
      "2 singe\n",
      "1 tigre\n",
      "0 giraf\n"
     ]
    }
   ],
   "source": [
    "'''\n",
    "range(commennce,arret,combien a la fois et la direccion)\n",
    "'''\n",
    "\n",
    "for i in range(3,-1,-1):\n",
    "    print(i,z[i])\n",
    "    \n",
    "    "
   ]
  },
  {
   "cell_type": "code",
   "execution_count": 31,
   "id": "5ed2903d",
   "metadata": {},
   "outputs": [
    {
     "name": "stdout",
     "output_type": "stream",
     "text": [
      "0 giraf\n",
      "1 tigre\n",
      "2 singe\n",
      "3 souris\n"
     ]
    }
   ],
   "source": [
    "for i in range(0,4,1):\n",
    "    print(i,z[i])"
   ]
  },
  {
   "cell_type": "code",
   "execution_count": 32,
   "id": "9bd4e547",
   "metadata": {},
   "outputs": [
    {
     "name": "stdout",
     "output_type": "stream",
     "text": [
      "souris\n",
      "singe\n",
      "tigre\n",
      "giraf\n"
     ]
    }
   ],
   "source": [
    "for i in range(len(z)-1,-1,-1):\n",
    "  print(z[i])"
   ]
  },
  {
   "cell_type": "code",
   "execution_count": 33,
   "id": "457ce075",
   "metadata": {},
   "outputs": [
    {
     "name": "stdout",
     "output_type": "stream",
     "text": [
      "3\n",
      "5\n",
      "7\n"
     ]
    }
   ],
   "source": [
    "for i in range(3,8,2):\n",
    "    print(i)"
   ]
  },
  {
   "cell_type": "code",
   "execution_count": 34,
   "id": "adbaf0b3",
   "metadata": {},
   "outputs": [
    {
     "name": "stdout",
     "output_type": "stream",
     "text": [
      "8\n",
      "7\n",
      "6\n",
      "5\n",
      "4\n"
     ]
    }
   ],
   "source": [
    "'''\n",
    "range(from, to - 1, step=1)\n",
    "'''\n",
    "\n",
    "for i in range(8,3,-1):\n",
    "    print(i)"
   ]
  },
  {
   "cell_type": "code",
   "execution_count": 39,
   "id": "33bbae47",
   "metadata": {},
   "outputs": [
    {
     "name": "stdout",
     "output_type": "stream",
     "text": [
      "1\n",
      "2\n",
      "3\n",
      "4\n",
      "5\n",
      "6\n",
      "7\n",
      "9\n",
      "10\n",
      "11\n",
      "12\n"
     ]
    }
   ],
   "source": [
    "'''\n",
    "imprimer z[i] suelement quand z[i]%2=0\n",
    "\n",
    "if c'est vrai:\n",
    "    faire quelque choise\n",
    "    \n",
    "\n",
    "\n",
    "'''\n",
    "\n",
    "z=[1,2,3,4,5,6,7,9,10,11,12]\n",
    "\n",
    "for i in range(len(z)):\n",
    "    if xxxxxx:  <----mette quoi?\n",
    "        print(z[i])\n",
    "\n"
   ]
  },
  {
   "cell_type": "code",
   "execution_count": null,
   "id": "f5793d65",
   "metadata": {},
   "outputs": [],
   "source": []
  }
 ],
 "metadata": {
  "kernelspec": {
   "display_name": "Python 3 (ipykernel)",
   "language": "python",
   "name": "python3"
  },
  "language_info": {
   "codemirror_mode": {
    "name": "ipython",
    "version": 3
   },
   "file_extension": ".py",
   "mimetype": "text/x-python",
   "name": "python",
   "nbconvert_exporter": "python",
   "pygments_lexer": "ipython3",
   "version": "3.8.10"
  }
 },
 "nbformat": 4,
 "nbformat_minor": 5
}
